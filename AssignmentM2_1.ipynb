{
  "nbformat": 4,
  "nbformat_minor": 0,
  "metadata": {
    "colab": {
      "name": "AssignmentM2-1.ipynb",
      "provenance": [],
      "collapsed_sections": []
    },
    "kernelspec": {
      "name": "python3",
      "display_name": "Python 3"
    }
  },
  "cells": [
    {
      "cell_type": "code",
      "metadata": {
        "id": "46xTUzMHw406",
        "colab_type": "code",
        "colab": {}
      },
      "source": [
        "import numpy as np\n",
        "import matplotlib.pyplot as plt\n",
        "\n",
        "### You can include and initilization part or paste all functions you need such as bisection here ###"
      ],
      "execution_count": null,
      "outputs": []
    },
    {
      "cell_type": "markdown",
      "metadata": {
        "id": "IekGxrxgwplS",
        "colab_type": "text"
      },
      "source": [
        "#Q1"
      ]
    },
    {
      "cell_type": "markdown",
      "metadata": {
        "id": "usBc3Ms_v9c2",
        "colab_type": "text"
      },
      "source": [
        "Use the function `incsearch` to identify the brackets containing the roots of function $f(x)=\\sin(35x)+\\sin(15x+5)$ within the interval $[0,2]$. Verify that all the brackets are identified."
      ]
    },
    {
      "cell_type": "markdown",
      "metadata": {
        "id": "5WeWByoexRPy",
        "colab_type": "text"
      },
      "source": [
        "#Q2"
      ]
    },
    {
      "cell_type": "markdown",
      "metadata": {
        "id": "w1DxbWwqxTLU",
        "colab_type": "text"
      },
      "source": [
        "Determine the positive real root of $\\ln(x^2)=0.7$ by (a) graphically, (b) using three iterations of bisection method by hand in the interval [0.5, 2], and (c) using the python function `bisection`."
      ]
    },
    {
      "cell_type": "markdown",
      "metadata": {
        "id": "KcHYfFkA0OOO",
        "colab_type": "text"
      },
      "source": [
        "#Q3"
      ]
    },
    {
      "cell_type": "markdown",
      "metadata": {
        "id": "WcKusWED0RMk",
        "colab_type": "text"
      },
      "source": [
        "The Fanning friction factor $f$ in fluid dynamics is calculated as $\\frac{1}{\\sqrt{f}}=4 \\log_{10} (Re \\sqrt{f})-0.4$ where $Re$ is the Reynolds number. Typical values for the Fanning friction factor in turbulent flows are 0.001 to 0.01. Develop a python function using the following template that uses the bisection method to calculate and returns $f$ given a user-supplied value of $Re$ between 10,000 and 1,000,000 with error tolerance of $10^{{-7}}\\%$. Use the function to plot $f$ as a function of $Re$ on a semi-log plot, in which $Re$ is on the log axis (similar to Moody chart). \n"
      ]
    },
    {
      "cell_type": "code",
      "metadata": {
        "id": "nvRfm8RD2dyB",
        "colab_type": "code",
        "colab": {}
      },
      "source": [
        "def fanning(Re):\n",
        "    \"\"\" Finds the fanning frction factor as a function of Reynolds number (Re)\n",
        "    ...\n",
        "    \"\"\"\n",
        "    func=lambda f: ? # put the math. function here in the form func(f)=0\n",
        "    root, ? = bisection(func, 0.001, 0.01, tol=?, maxit=?) # call bisection \n",
        "    return root  #the root is the fanning factor (f)\n",
        "\n",
        "\n",
        "Rex=np.logspace(4,6,?) # points with log spacing from Re=1e4 to 1e6. Set your desired number of points to generate\n",
        "f=? #initiate f to be a list with the same size as Rex\n",
        "for i in ? #complete the loop\n",
        "    f[i]=fanning(Rex[i])   #call fanning function\n",
        "plt.semilogx(Rex,f,'bo-')  #plot\n",
        "# set xlabel to Re\n",
        "# set ylabel to Re\n"
      ],
      "execution_count": null,
      "outputs": []
    },
    {
      "cell_type": "markdown",
      "metadata": {
        "id": "oOQd1j8F7a8K",
        "colab_type": "text"
      },
      "source": [
        "#Q4"
      ]
    },
    {
      "cell_type": "markdown",
      "metadata": {
        "id": "bKcLABMP7iT8",
        "colab_type": "text"
      },
      "source": [
        "The concentration of pollutant bacteria $c$ in a lake decreases according to\n",
        "$c=77e^{-1.5t}+20e^{-0.08t}$. Determine the time required for the bacteria concentration to be reduced to $15$ using the Newton-Raphson method with an initial guess of $t = 6$ and a stopping criterion of $1\\%$.\n",
        "1.   Use hand calculations\n",
        "2.   Use `newtonRaphson` function\n",
        "3.   Use the `fsolve` function"
      ]
    },
    {
      "cell_type": "markdown",
      "metadata": {
        "id": "J1dqHGHUoAij",
        "colab_type": "text"
      },
      "source": [
        "#Q5"
      ]
    },
    {
      "cell_type": "markdown",
      "metadata": {
        "id": "zPfj-zbgoDd6",
        "colab_type": "text"
      },
      "source": [
        "Find the root of $x^{4}=5x+10$ using fixed-point iteration method. (a) Determine the formulation that converges for initial guesses in the range of $0 < x < 7$ based on fixed-point iteration method convergence criterion, and (b)\n",
        "using part (a) result, write a code (using the template given below) to find the root with error tolerance of $10^{-5}\\%$. Check to ensure that the root satisfies the function."
      ]
    },
    {
      "cell_type": "code",
      "metadata": {
        "id": "6kN5FuW4tfLU",
        "colab_type": "code",
        "colab": {}
      },
      "source": [
        "def fixedPoint(func,x0,tol=1e-4,maxit=100): # fixed point iteration function definition\n",
        "    \"\"\"Finds roots of a function using Fixed Point Iterations method\n",
        "\n",
        "    fixedPoint(func, x0, tol = 1e-4, maxit = 100)\n",
        "    Finds roots of a function (x=f(x)) using Fixed Point Iterations method\n",
        "    Input:\n",
        "    - func: an anonymous function for f(x) such that x=f(x)\n",
        "            to obtain convergence the function much satisfy |f'(x)| < 1 \n",
        "    - x0: initial guess of the root\n",
        "    - tol : error tolerance (%) (default = 0.0001%)\n",
        "    - maxit: maximum number of iterations (default = 100)\n",
        "    Output:\n",
        "    - xr: the root\n",
        "    - fx: value of func at the root\n",
        "    - err: relative approximate error (%)\n",
        "    - iter: number of iterations\n",
        "    \"\"\"\n",
        "    iter = 0\n",
        "    err = 1000\n",
        "    x = x0\n",
        "    while .....\n",
        "        .....        \n",
        "        err = ?    \n",
        "    fx = func(x) - x     \n",
        "    if iter == maxit: # show a warning if the function is terminated due to iter=maxit\n",
        "        print('Warning: fixedPoint function is terminated because iter=maxit;') \n",
        "        print('         error < tolerance stopping criterion may not be satisfied')\n",
        "    return x, fx, err, iter\n",
        "\n",
        "\n",
        "f = lambda x: ........  # define the f(x) suh that x=f(x)\n",
        "....... Call the fixedPoint function\n",
        "....... print the output (is fx close to zero?)"
      ],
      "execution_count": null,
      "outputs": []
    }
  ]
}